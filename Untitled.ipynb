{
 "cells": [
  {
   "cell_type": "code",
   "execution_count": 1,
   "id": "f9473156",
   "metadata": {},
   "outputs": [],
   "source": [
    "import pandas as pd\n",
    "import numpy as np\n",
    "import seaborn as sns\n",
    "import matplotlib.pyplot as plt\n",
    "\n",
    "from sklearn.preprocessing import StandardScaler\n",
    "from sklearn.model_selection import train_test_split\n",
    "from sklearn.linear_model import LinearRegression\n",
    "from sklearn import metrics\n",
    "\n",
    "from statsmodels.stats.outliers_influence import variance_inflation_factor\n",
    "import statsmodels.api as sm\n",
    "from statsmodels.stats.diagnostic import normal_ad\n",
    "from scipy import stats\n",
    "from statsmodels.stats.stattools import durbin_watson"
   ]
  },
  {
   "cell_type": "code",
   "execution_count": 2,
   "id": "eafd6bac",
   "metadata": {},
   "outputs": [
    {
     "name": "stdout",
     "output_type": "stream",
     "text": [
      "<class 'pandas.core.frame.DataFrame'>\n",
      "RangeIndex: 200 entries, 0 to 199\n",
      "Data columns (total 5 columns):\n",
      " #   Column      Non-Null Count  Dtype  \n",
      "---  ------      --------------  -----  \n",
      " 0   Unnamed: 0  200 non-null    int64  \n",
      " 1   TV          200 non-null    float64\n",
      " 2   Radio       200 non-null    float64\n",
      " 3   Newspaper   200 non-null    float64\n",
      " 4   Sales       200 non-null    float64\n",
      "dtypes: float64(4), int64(1)\n",
      "memory usage: 7.9 KB\n"
     ]
    },
    {
     "data": {
      "text/html": [
       "<div>\n",
       "<style scoped>\n",
       "    .dataframe tbody tr th:only-of-type {\n",
       "        vertical-align: middle;\n",
       "    }\n",
       "\n",
       "    .dataframe tbody tr th {\n",
       "        vertical-align: top;\n",
       "    }\n",
       "\n",
       "    .dataframe thead th {\n",
       "        text-align: right;\n",
       "    }\n",
       "</style>\n",
       "<table border=\"1\" class=\"dataframe\">\n",
       "  <thead>\n",
       "    <tr style=\"text-align: right;\">\n",
       "      <th></th>\n",
       "      <th>Unnamed: 0</th>\n",
       "      <th>TV</th>\n",
       "      <th>Radio</th>\n",
       "      <th>Newspaper</th>\n",
       "      <th>Sales</th>\n",
       "    </tr>\n",
       "  </thead>\n",
       "  <tbody>\n",
       "    <tr>\n",
       "      <th>0</th>\n",
       "      <td>1</td>\n",
       "      <td>230.1</td>\n",
       "      <td>37.8</td>\n",
       "      <td>69.2</td>\n",
       "      <td>22.1</td>\n",
       "    </tr>\n",
       "    <tr>\n",
       "      <th>1</th>\n",
       "      <td>2</td>\n",
       "      <td>44.5</td>\n",
       "      <td>39.3</td>\n",
       "      <td>45.1</td>\n",
       "      <td>10.4</td>\n",
       "    </tr>\n",
       "    <tr>\n",
       "      <th>2</th>\n",
       "      <td>3</td>\n",
       "      <td>17.2</td>\n",
       "      <td>45.9</td>\n",
       "      <td>69.3</td>\n",
       "      <td>9.3</td>\n",
       "    </tr>\n",
       "    <tr>\n",
       "      <th>3</th>\n",
       "      <td>4</td>\n",
       "      <td>151.5</td>\n",
       "      <td>41.3</td>\n",
       "      <td>58.5</td>\n",
       "      <td>18.5</td>\n",
       "    </tr>\n",
       "    <tr>\n",
       "      <th>4</th>\n",
       "      <td>5</td>\n",
       "      <td>180.8</td>\n",
       "      <td>10.8</td>\n",
       "      <td>58.4</td>\n",
       "      <td>12.9</td>\n",
       "    </tr>\n",
       "  </tbody>\n",
       "</table>\n",
       "</div>"
      ],
      "text/plain": [
       "   Unnamed: 0     TV  Radio  Newspaper  Sales\n",
       "0           1  230.1   37.8       69.2   22.1\n",
       "1           2   44.5   39.3       45.1   10.4\n",
       "2           3   17.2   45.9       69.3    9.3\n",
       "3           4  151.5   41.3       58.5   18.5\n",
       "4           5  180.8   10.8       58.4   12.9"
      ]
     },
     "execution_count": 2,
     "metadata": {},
     "output_type": "execute_result"
    }
   ],
   "source": [
    "df = pd.read_csv('Advertising.csv')\n",
    "df.info()\n",
    "df.head()"
   ]
  },
  {
   "cell_type": "code",
   "execution_count": 3,
   "id": "688f3d26",
   "metadata": {},
   "outputs": [
    {
     "name": "stdout",
     "output_type": "stream",
     "text": [
      "<class 'pandas.core.frame.DataFrame'>\n",
      "RangeIndex: 200 entries, 0 to 199\n",
      "Data columns (total 4 columns):\n",
      " #   Column     Non-Null Count  Dtype  \n",
      "---  ------     --------------  -----  \n",
      " 0   TV         200 non-null    float64\n",
      " 1   Radio      200 non-null    float64\n",
      " 2   Newspaper  200 non-null    float64\n",
      " 3   Sales      200 non-null    float64\n",
      "dtypes: float64(4)\n",
      "memory usage: 6.4 KB\n"
     ]
    },
    {
     "data": {
      "text/html": [
       "<div>\n",
       "<style scoped>\n",
       "    .dataframe tbody tr th:only-of-type {\n",
       "        vertical-align: middle;\n",
       "    }\n",
       "\n",
       "    .dataframe tbody tr th {\n",
       "        vertical-align: top;\n",
       "    }\n",
       "\n",
       "    .dataframe thead th {\n",
       "        text-align: right;\n",
       "    }\n",
       "</style>\n",
       "<table border=\"1\" class=\"dataframe\">\n",
       "  <thead>\n",
       "    <tr style=\"text-align: right;\">\n",
       "      <th></th>\n",
       "      <th>TV</th>\n",
       "      <th>Radio</th>\n",
       "      <th>Newspaper</th>\n",
       "      <th>Sales</th>\n",
       "    </tr>\n",
       "  </thead>\n",
       "  <tbody>\n",
       "    <tr>\n",
       "      <th>0</th>\n",
       "      <td>230.1</td>\n",
       "      <td>37.8</td>\n",
       "      <td>69.2</td>\n",
       "      <td>22.1</td>\n",
       "    </tr>\n",
       "    <tr>\n",
       "      <th>1</th>\n",
       "      <td>44.5</td>\n",
       "      <td>39.3</td>\n",
       "      <td>45.1</td>\n",
       "      <td>10.4</td>\n",
       "    </tr>\n",
       "    <tr>\n",
       "      <th>2</th>\n",
       "      <td>17.2</td>\n",
       "      <td>45.9</td>\n",
       "      <td>69.3</td>\n",
       "      <td>9.3</td>\n",
       "    </tr>\n",
       "    <tr>\n",
       "      <th>3</th>\n",
       "      <td>151.5</td>\n",
       "      <td>41.3</td>\n",
       "      <td>58.5</td>\n",
       "      <td>18.5</td>\n",
       "    </tr>\n",
       "    <tr>\n",
       "      <th>4</th>\n",
       "      <td>180.8</td>\n",
       "      <td>10.8</td>\n",
       "      <td>58.4</td>\n",
       "      <td>12.9</td>\n",
       "    </tr>\n",
       "  </tbody>\n",
       "</table>\n",
       "</div>"
      ],
      "text/plain": [
       "      TV  Radio  Newspaper  Sales\n",
       "0  230.1   37.8       69.2   22.1\n",
       "1   44.5   39.3       45.1   10.4\n",
       "2   17.2   45.9       69.3    9.3\n",
       "3  151.5   41.3       58.5   18.5\n",
       "4  180.8   10.8       58.4   12.9"
      ]
     },
     "execution_count": 3,
     "metadata": {},
     "output_type": "execute_result"
    }
   ],
   "source": [
    "df = df.iloc[:,1:]\n",
    "df.info()\n",
    "df.head()"
   ]
  },
  {
   "cell_type": "code",
   "execution_count": 4,
   "id": "92cf79eb",
   "metadata": {},
   "outputs": [
    {
     "data": {
      "text/html": [
       "<div>\n",
       "<style scoped>\n",
       "    .dataframe tbody tr th:only-of-type {\n",
       "        vertical-align: middle;\n",
       "    }\n",
       "\n",
       "    .dataframe tbody tr th {\n",
       "        vertical-align: top;\n",
       "    }\n",
       "\n",
       "    .dataframe thead th {\n",
       "        text-align: right;\n",
       "    }\n",
       "</style>\n",
       "<table border=\"1\" class=\"dataframe\">\n",
       "  <thead>\n",
       "    <tr style=\"text-align: right;\">\n",
       "      <th></th>\n",
       "      <th>TV</th>\n",
       "      <th>Radio</th>\n",
       "      <th>Newspaper</th>\n",
       "      <th>Sales</th>\n",
       "    </tr>\n",
       "  </thead>\n",
       "  <tbody>\n",
       "    <tr>\n",
       "      <th>count</th>\n",
       "      <td>200.000000</td>\n",
       "      <td>200.000000</td>\n",
       "      <td>200.000000</td>\n",
       "      <td>200.000000</td>\n",
       "    </tr>\n",
       "    <tr>\n",
       "      <th>mean</th>\n",
       "      <td>147.042500</td>\n",
       "      <td>23.264000</td>\n",
       "      <td>30.554000</td>\n",
       "      <td>14.022500</td>\n",
       "    </tr>\n",
       "    <tr>\n",
       "      <th>std</th>\n",
       "      <td>85.854236</td>\n",
       "      <td>14.846809</td>\n",
       "      <td>21.778621</td>\n",
       "      <td>5.217457</td>\n",
       "    </tr>\n",
       "    <tr>\n",
       "      <th>min</th>\n",
       "      <td>0.700000</td>\n",
       "      <td>0.000000</td>\n",
       "      <td>0.300000</td>\n",
       "      <td>1.600000</td>\n",
       "    </tr>\n",
       "    <tr>\n",
       "      <th>25%</th>\n",
       "      <td>74.375000</td>\n",
       "      <td>9.975000</td>\n",
       "      <td>12.750000</td>\n",
       "      <td>10.375000</td>\n",
       "    </tr>\n",
       "    <tr>\n",
       "      <th>50%</th>\n",
       "      <td>149.750000</td>\n",
       "      <td>22.900000</td>\n",
       "      <td>25.750000</td>\n",
       "      <td>12.900000</td>\n",
       "    </tr>\n",
       "    <tr>\n",
       "      <th>75%</th>\n",
       "      <td>218.825000</td>\n",
       "      <td>36.525000</td>\n",
       "      <td>45.100000</td>\n",
       "      <td>17.400000</td>\n",
       "    </tr>\n",
       "    <tr>\n",
       "      <th>max</th>\n",
       "      <td>296.400000</td>\n",
       "      <td>49.600000</td>\n",
       "      <td>114.000000</td>\n",
       "      <td>27.000000</td>\n",
       "    </tr>\n",
       "  </tbody>\n",
       "</table>\n",
       "</div>"
      ],
      "text/plain": [
       "               TV       Radio   Newspaper       Sales\n",
       "count  200.000000  200.000000  200.000000  200.000000\n",
       "mean   147.042500   23.264000   30.554000   14.022500\n",
       "std     85.854236   14.846809   21.778621    5.217457\n",
       "min      0.700000    0.000000    0.300000    1.600000\n",
       "25%     74.375000    9.975000   12.750000   10.375000\n",
       "50%    149.750000   22.900000   25.750000   12.900000\n",
       "75%    218.825000   36.525000   45.100000   17.400000\n",
       "max    296.400000   49.600000  114.000000   27.000000"
      ]
     },
     "execution_count": 4,
     "metadata": {},
     "output_type": "execute_result"
    }
   ],
   "source": [
    "df.describe()"
   ]
  },
  {
   "cell_type": "code",
   "execution_count": 5,
   "id": "0afc0d48",
   "metadata": {},
   "outputs": [],
   "source": [
    "independent = ['TV','Radio','Newspaper']\n",
    "dependent = 'Sales'"
   ]
  },
  {
   "cell_type": "code",
   "execution_count": 6,
   "id": "dec44bda",
   "metadata": {},
   "outputs": [],
   "source": [
    "## performing Linear Regression\n",
    "\n",
    "x = df.drop([dependent],axis=1)\n",
    "y = df[dependent]\n",
    "\n",
    "sc = StandardScaler()\n",
    "\n",
    "x = sc.fit_transform(x)\n",
    "\n",
    "x_train, x_test, y_train, y_test = train_test_split(x,y,test_size=0.7)"
   ]
  },
  {
   "cell_type": "code",
   "execution_count": 7,
   "id": "a3086c68",
   "metadata": {},
   "outputs": [
    {
     "name": "stdout",
     "output_type": "stream",
     "text": [
      "R-squared 0.8790479826862885\n",
      "R^2 score: 0.8790479826862885\n",
      "COEFFICIENT OF THE INDEPENDENT VARIABELS [ 4.00730934  3.1931188  -0.23194763]\n",
      "{'copy_X': True, 'fit_intercept': True, 'n_jobs': None, 'normalize': False, 'positive': False}\n",
      "INTERCEPT 13.83263937049323\n"
     ]
    }
   ],
   "source": [
    "## Via Linear Regression\n",
    "\n",
    "reg = LinearRegression()\n",
    "reg.fit(x_train,y_train)\n",
    "y_pred = reg.predict(x_train)\n",
    "\n",
    "print(\"R-squared\",metrics.r2_score(y_train,y_pred))\n",
    "print(f'R^2 score: {reg.score(x_train, y_train)}')\n",
    "print(\"COEFFICIENT OF THE INDEPENDENT VARIABELS\",reg.coef_)\n",
    "print(reg.get_params())\n",
    "print(\"INTERCEPT\",reg.intercept_)"
   ]
  },
  {
   "cell_type": "code",
   "execution_count": 8,
   "id": "e46c30a6",
   "metadata": {},
   "outputs": [],
   "source": [
    "residual = y_train.values-y_pred"
   ]
  },
  {
   "cell_type": "code",
   "execution_count": 9,
   "id": "d6fe62dd",
   "metadata": {},
   "outputs": [
    {
     "data": {
      "text/html": [
       "<table class=\"simpletable\">\n",
       "<caption>OLS Regression Results</caption>\n",
       "<tr>\n",
       "  <th>Dep. Variable:</th>          <td>Sales</td>      <th>  R-squared:         </th> <td>   0.879</td>\n",
       "</tr>\n",
       "<tr>\n",
       "  <th>Model:</th>                   <td>OLS</td>       <th>  Adj. R-squared:    </th> <td>   0.873</td>\n",
       "</tr>\n",
       "<tr>\n",
       "  <th>Method:</th>             <td>Least Squares</td>  <th>  F-statistic:       </th> <td>   135.7</td>\n",
       "</tr>\n",
       "<tr>\n",
       "  <th>Date:</th>             <td>Sun, 04 Sep 2022</td> <th>  Prob (F-statistic):</th> <td>1.17e-25</td>\n",
       "</tr>\n",
       "<tr>\n",
       "  <th>Time:</th>                 <td>19:31:05</td>     <th>  Log-Likelihood:    </th> <td> -128.75</td>\n",
       "</tr>\n",
       "<tr>\n",
       "  <th>No. Observations:</th>      <td>    60</td>      <th>  AIC:               </th> <td>   265.5</td>\n",
       "</tr>\n",
       "<tr>\n",
       "  <th>Df Residuals:</th>          <td>    56</td>      <th>  BIC:               </th> <td>   273.9</td>\n",
       "</tr>\n",
       "<tr>\n",
       "  <th>Df Model:</th>              <td>     3</td>      <th>                     </th>     <td> </td>   \n",
       "</tr>\n",
       "<tr>\n",
       "  <th>Covariance Type:</th>      <td>nonrobust</td>    <th>                     </th>     <td> </td>   \n",
       "</tr>\n",
       "</table>\n",
       "<table class=\"simpletable\">\n",
       "<tr>\n",
       "    <td></td>       <th>coef</th>     <th>std err</th>      <th>t</th>      <th>P>|t|</th>  <th>[0.025</th>    <th>0.975]</th>  \n",
       "</tr>\n",
       "<tr>\n",
       "  <th>const</th> <td>   13.8326</td> <td>    0.282</td> <td>   49.013</td> <td> 0.000</td> <td>   13.267</td> <td>   14.398</td>\n",
       "</tr>\n",
       "<tr>\n",
       "  <th>x1</th>    <td>    4.0073</td> <td>    0.265</td> <td>   15.101</td> <td> 0.000</td> <td>    3.476</td> <td>    4.539</td>\n",
       "</tr>\n",
       "<tr>\n",
       "  <th>x2</th>    <td>    3.1931</td> <td>    0.253</td> <td>   12.597</td> <td> 0.000</td> <td>    2.685</td> <td>    3.701</td>\n",
       "</tr>\n",
       "<tr>\n",
       "  <th>x3</th>    <td>   -0.2319</td> <td>    0.266</td> <td>   -0.871</td> <td> 0.387</td> <td>   -0.765</td> <td>    0.301</td>\n",
       "</tr>\n",
       "</table>\n",
       "<table class=\"simpletable\">\n",
       "<tr>\n",
       "  <th>Omnibus:</th>       <td>31.763</td> <th>  Durbin-Watson:     </th> <td>   2.006</td>\n",
       "</tr>\n",
       "<tr>\n",
       "  <th>Prob(Omnibus):</th> <td> 0.000</td> <th>  Jarque-Bera (JB):  </th> <td>  76.032</td>\n",
       "</tr>\n",
       "<tr>\n",
       "  <th>Skew:</th>          <td>-1.611</td> <th>  Prob(JB):          </th> <td>3.09e-17</td>\n",
       "</tr>\n",
       "<tr>\n",
       "  <th>Kurtosis:</th>      <td> 7.475</td> <th>  Cond. No.          </th> <td>    1.48</td>\n",
       "</tr>\n",
       "</table><br/><br/>Notes:<br/>[1] Standard Errors assume that the covariance matrix of the errors is correctly specified."
      ],
      "text/plain": [
       "<class 'statsmodels.iolib.summary.Summary'>\n",
       "\"\"\"\n",
       "                            OLS Regression Results                            \n",
       "==============================================================================\n",
       "Dep. Variable:                  Sales   R-squared:                       0.879\n",
       "Model:                            OLS   Adj. R-squared:                  0.873\n",
       "Method:                 Least Squares   F-statistic:                     135.7\n",
       "Date:                Sun, 04 Sep 2022   Prob (F-statistic):           1.17e-25\n",
       "Time:                        19:31:05   Log-Likelihood:                -128.75\n",
       "No. Observations:                  60   AIC:                             265.5\n",
       "Df Residuals:                      56   BIC:                             273.9\n",
       "Df Model:                           3                                         \n",
       "Covariance Type:            nonrobust                                         \n",
       "==============================================================================\n",
       "                 coef    std err          t      P>|t|      [0.025      0.975]\n",
       "------------------------------------------------------------------------------\n",
       "const         13.8326      0.282     49.013      0.000      13.267      14.398\n",
       "x1             4.0073      0.265     15.101      0.000       3.476       4.539\n",
       "x2             3.1931      0.253     12.597      0.000       2.685       3.701\n",
       "x3            -0.2319      0.266     -0.871      0.387      -0.765       0.301\n",
       "==============================================================================\n",
       "Omnibus:                       31.763   Durbin-Watson:                   2.006\n",
       "Prob(Omnibus):                  0.000   Jarque-Bera (JB):               76.032\n",
       "Skew:                          -1.611   Prob(JB):                     3.09e-17\n",
       "Kurtosis:                       7.475   Cond. No.                         1.48\n",
       "==============================================================================\n",
       "\n",
       "Notes:\n",
       "[1] Standard Errors assume that the covariance matrix of the errors is correctly specified.\n",
       "\"\"\""
      ]
     },
     "execution_count": 9,
     "metadata": {},
     "output_type": "execute_result"
    }
   ],
   "source": [
    "x_train = sm.add_constant(x_train)\n",
    "result = sm.OLS(y_train,x_train).fit()\n",
    "result.summary()"
   ]
  },
  {
   "cell_type": "markdown",
   "id": "ae456396",
   "metadata": {},
   "source": [
    "## Assumptions of LR"
   ]
  },
  {
   "cell_type": "code",
   "execution_count": 10,
   "id": "c6cbb13e",
   "metadata": {},
   "outputs": [],
   "source": [
    "def checkLA(df,indepenndent,dependent,residual,y_train,cols_to_ignore=[],cols=[]):\n",
    "    \"\"\"\n",
    "    df --> Input DataFrame \n",
    "    independent --> Independent Variables in list\n",
    "    dependent --> Dependent Variable Name\n",
    "    residual --> Diff b/w Actual Values & Predicted Values\n",
    "    y_train --> Actual Values\n",
    "    cols_to_ignore --> \n",
    "    \"\"\"\n",
    "    print(\"\\n################################## CHECKING LINEARITY OF THE MODEL ##########################################\")\n",
    "    linaer_assumption(df,independent,dependent)\n",
    "    print(\"\\n########################### CHECKING MEAN OF THE RESIDUAL ##################################\")\n",
    "    mean_residual(residual)\n",
    "    print(\"\\n############################ CHECKING HOMOSCENDNITY OF THE RESIDUAL #####################################\")\n",
    "    checkHomoscednity(y_train,residual)\n",
    "    print(\"\\n############################### CHECKING NORMALITY OF THE RESIDUAL ##########################################\")\n",
    "    checkNormality(residual)\n",
    "    print(\"\\n################### CHECKING MULTICOLLINEARITY OF THE INDEPENDENT VARIABLES ##############################\")\n",
    "    checkMulticollinearity(df,cols_to_ignore,cols)\n",
    "    print(\"\\n################### CHECKING AUTOCOORELATION ##############################\")\n",
    "    checkAutocoorelation(residual)\n",
    "    \n",
    "    "
   ]
  },
  {
   "cell_type": "markdown",
   "id": "2f80d3ab",
   "metadata": {},
   "source": [
    "### 1. Linearity b/w dependent variable and independent varaible"
   ]
  },
  {
   "cell_type": "code",
   "execution_count": 11,
   "id": "6d0dc902",
   "metadata": {},
   "outputs": [],
   "source": [
    "def linaer_assumption(df,independent,dependent):\n",
    "    if  len(independent) < 10:\n",
    "        print('Plotting SCATTER PLOT B/W DEPENDENT & INDEPENDENT VARIABLES..............................')\n",
    "        p = sns.pairplot(data=df,x_vars=independent, y_vars=dependent,height=5,aspect=.9)\n",
    "        plt.show()\n",
    "\n",
    "    print('Actual Values vs Predicted Values..................................................')\n",
    "    plt.figure(figsize=(10,8))\n",
    "    sns.regplot(x=y_pred,y=y_train,line_kws={'color' : 'red'},lowess=True)\n",
    "    plt.title('Actual vs. Predicted')\n",
    "    plt.xlabel('Predicted Values')\n",
    "    plt.ylabel('Actual Values')\n",
    "    plt.show()\n",
    "    \n",
    "    print('RESIDUAL VALUES vs PREDICTED VALUES.................................................')\n",
    "\n",
    "    plt.figure(figsize=(10,8))\n",
    "    sns.regplot(x=y_pred,y=residual,line_kws={'color' : 'red'},lowess=True)\n",
    "    plt.title('Residual vs. Predicted')\n",
    "    plt.xlabel('Predicted Values')\n",
    "    plt.ylabel('Residual Values')\n",
    "    plt.show()"
   ]
  },
  {
   "cell_type": "code",
   "execution_count": 12,
   "id": "e666312e",
   "metadata": {},
   "outputs": [],
   "source": [
    "# linaer_assumption(df,independent,dependent)"
   ]
  },
  {
   "cell_type": "markdown",
   "id": "3ca39188",
   "metadata": {},
   "source": [
    "## Mean of Residual/Error"
   ]
  },
  {
   "cell_type": "code",
   "execution_count": 13,
   "id": "4ecc0b85",
   "metadata": {},
   "outputs": [],
   "source": [
    "def mean_residual(residual):\n",
    "    residual_mean = np.mean(residual)\n",
    "    print(f'MEAN OF THE RESIDUAL IS {residual_mean}')\n",
    "    if residual_mean < 0.1:\n",
    "        print('AND IT IS VERY CLOSE TO ZERO.................')"
   ]
  },
  {
   "cell_type": "code",
   "execution_count": 14,
   "id": "5c7ef03f",
   "metadata": {},
   "outputs": [],
   "source": [
    "# mean_residual(residual)"
   ]
  },
  {
   "cell_type": "markdown",
   "id": "87bad2b5",
   "metadata": {},
   "source": [
    "## Homoscednity --> Equal Variance"
   ]
  },
  {
   "cell_type": "code",
   "execution_count": 15,
   "id": "b14d3e45",
   "metadata": {},
   "outputs": [],
   "source": [
    "def checkHomoscednity(y_train,residual):\n",
    "    plt.figure(figsize=(10,8))\n",
    "    p = sns.scatterplot(x=y_train,y=residual)\n",
    "    plt.xlabel('y_train')\n",
    "    plt.ylabel('Residuals')\n",
    "    p = sns.lineplot(x=[min(y_train), max(y_train)],y=[0,0],color='red')\n",
    "    p = plt.title('Residuals vs Actual values plot for homoscedasticity check')\n",
    "    plt.show()"
   ]
  },
  {
   "cell_type": "code",
   "execution_count": 16,
   "id": "ade126d7",
   "metadata": {},
   "outputs": [],
   "source": [
    "# checkHomoscednity(y_train,residual)"
   ]
  },
  {
   "cell_type": "markdown",
   "id": "ac2e042b",
   "metadata": {},
   "source": [
    "## Normality of Error"
   ]
  },
  {
   "cell_type": "code",
   "execution_count": 17,
   "id": "6d958f1f",
   "metadata": {},
   "outputs": [],
   "source": [
    "def checkNormality(residual):\n",
    "    print('CHECKING NORMALITY OF THE RESIDUALS................................................')\n",
    "    p = sns.displot(residual,kde=True,height=5,aspect=0.9)\n",
    "    p = plt.title('Normal Distribution of Residuals')\n",
    "    plt.show()\n",
    "    \n",
    "    stats_val,p_value = normal_ad(residual)\n",
    "    print(f\"p-value is using Anderson-Darling is {p_value}\")\n",
    "\n",
    "    if p_value < 0.05:\n",
    "        print('Residuals are not normally distributed')\n",
    "    else:\n",
    "        print('Residuals are normally distributed')\n",
    "\n",
    "    print()\n",
    "\n",
    "    stats_val,p_value = stats.shapiro(residual)\n",
    "    print(f\"p-value is using Shapiro Test is {p_value}\")\n",
    "\n",
    "    if p_value < 0.05:\n",
    "        print('Residuals are not normally distributed')\n",
    "    else:\n",
    "        print('Residuals are normally distributed')"
   ]
  },
  {
   "cell_type": "code",
   "execution_count": 18,
   "id": "d29871a7",
   "metadata": {},
   "outputs": [],
   "source": [
    "# checkNormality(residual)"
   ]
  },
  {
   "cell_type": "markdown",
   "id": "736912fd",
   "metadata": {},
   "source": [
    "## No Multicollinearity of the Independent Features"
   ]
  },
  {
   "cell_type": "code",
   "execution_count": 19,
   "id": "9e38ddf8",
   "metadata": {},
   "outputs": [],
   "source": [
    "def checkMulticollinearity(df,cols_to_ignore,cols):\n",
    "    plt.figure(figsize=(12,8))\n",
    "    p = sns.heatmap(df.corr(),annot=True)\n",
    "    plt.show()\n",
    "    \n",
    "    print(\"CALCULATING VIF............................\")\n",
    "    vif_df = calculate_vif(df,cols_to_ignore=[],cols=[])\n",
    "    print()\n",
    "    print(vif_df)"
   ]
  },
  {
   "cell_type": "code",
   "execution_count": 20,
   "id": "a358f57e",
   "metadata": {},
   "outputs": [],
   "source": [
    "def calculate_vif(df,cols_to_ignore=[],cols=[]):\n",
    "    vif_data = pd.DataFrame()\n",
    "    \n",
    "    df_1 = df.copy()\n",
    "    \n",
    "    if len(cols_to_ignore) > 0:\n",
    "        df_1 = df_1.drop(cols_to_ignore,axis=1)\n",
    "    if len(cols) > 0:\n",
    "        df_1 = df_1[cols]\n",
    "    \n",
    "    vif_data[\"feature\"] = df_1.columns\n",
    "\n",
    "    vif_data[\"VIF\"] = [variance_inflation_factor(df_1.values, i)\n",
    "                              for i in range(len(df_1.columns))]\n",
    "    vif_data = vif_data.sort_values(by=['VIF'], ascending=False).reset_index(drop=True)\n",
    "    \n",
    "    vif_gt_10 = sum([1 for vif in vif_data.VIF.values if ((vif > 10) and (vif < 50))])\n",
    "    vif_gt_50 = sum([1 for vif in vif_data.VIF.values if (vif > 50)])\n",
    "    print(f\"{vif_gt_10} Features showing higher VIF i.e. VIF > 10 and < 50\")\n",
    "    print(f\"{vif_gt_50} Features showing higher VIF i.e. VIF > 50\")\n",
    "    return vif_data"
   ]
  },
  {
   "cell_type": "code",
   "execution_count": 21,
   "id": "d9ad4cea",
   "metadata": {},
   "outputs": [],
   "source": [
    "# checkMulticollinearity(df,cols_to_ignore=[],cols=[])"
   ]
  },
  {
   "cell_type": "markdown",
   "id": "f964478b",
   "metadata": {},
   "source": [
    "## No Autocoorelation of Residual Terms"
   ]
  },
  {
   "cell_type": "code",
   "execution_count": 22,
   "id": "713b2896",
   "metadata": {},
   "outputs": [],
   "source": [
    "## Can also see the durbinwatson Test result in OLS summary as well to crossverify\n",
    "\n",
    "def checkAutocoorelation(residual):\n",
    "    durbinWatson = durbin_watson(residual)\n",
    "    print(f\"durbin_watson value is {durbinWatson}\")\n",
    "    if durbinWatson < 1.5:\n",
    "        print('Signs of positive autocorrelation', '\\n')\n",
    "        print('Assumption not satisfied')\n",
    "    elif durbinWatson > 2.5:\n",
    "        print('Signs of negative autocorrelation', '\\n')\n",
    "        print('Assumption not satisfied')\n",
    "    else:\n",
    "        print('Little to no autocorrelation', '\\n')\n",
    "        print('Assumption satisfied')"
   ]
  },
  {
   "cell_type": "code",
   "execution_count": 23,
   "id": "5c26c26a",
   "metadata": {},
   "outputs": [],
   "source": [
    "# checkAutocoorelation(residual)"
   ]
  },
  {
   "cell_type": "code",
   "execution_count": 24,
   "id": "34f8bd34",
   "metadata": {
    "scrolled": false
   },
   "outputs": [
    {
     "name": "stdout",
     "output_type": "stream",
     "text": [
      "\n",
      "################################## CHECKING LINEARITY OF THE MODEL ##########################################\n",
      "Plotting SCATTER PLOT B/W DEPENDENT & INDEPENDENT VARIABLES..............................\n"
     ]
    },
    {
     "data": {
      "image/png": "[encoded data removed]",
      "text/plain": [
       "<Figure size 972x360 with 3 Axes>"
      ]
     },
     "metadata": {
      "needs_background": "light"
     },
     "output_type": "display_data"
    },
    {
     "name": "stdout",
     "output_type": "stream",
     "text": [
      "Actual Values vs Predicted Values..................................................\n"
     ]
    },
    {
     "data": {
      "image/png": "[encoded data removed]",
      "text/plain": [
       "<Figure size 720x576 with 1 Axes>"
      ]
     },
     "metadata": {
      "needs_background": "light"
     },
     "output_type": "display_data"
    },
    {
     "name": "stdout",
     "output_type": "stream",
     "text": [
      "RESIDUAL VALUES vs PREDICTED VALUES.................................................\n"
     ]
    },
    {
     "data": {
      "image/png": "[encoded data removed]",
      "text/plain": [
       "<Figure size 720x576 with 1 Axes>"
      ]
     },
     "metadata": {
      "needs_background": "light"
     },
     "output_type": "display_data"
    },
    {
     "name": "stdout",
     "output_type": "stream",
     "text": [
      "\n",
      "########################### CHECKING MEAN OF THE RESIDUAL ##################################\n",
      "MEAN OF THE RESIDUAL IS -3.5379107051388322e-15\n",
      "AND IT IS VERY CLOSE TO ZERO.................\n",
      "\n",
      "############################ CHECKING HOMOSCENDNITY OF THE RESIDUAL #####################################\n"
     ]
    },
    {
     "data": {
      "image/png": "[encoded data removed]",
      "text/plain": [
       "<Figure size 720x576 with 1 Axes>"
      ]
     },
     "metadata": {
      "needs_background": "light"
     },
     "output_type": "display_data"
    },
    {
     "name": "stdout",
     "output_type": "stream",
     "text": [
      "\n",
      "############################### CHECKING NORMALITY OF THE RESIDUAL ##########################################\n",
      "CHECKING NORMALITY OF THE RESIDUALS................................................\n"
     ]
    },
    {
     "data": {
      "image/png": "[encoded data removed]",
      "text/plain": [
       "<Figure size 324x360 with 1 Axes>"
      ]
     },
     "metadata": {
      "needs_background": "light"
     },
     "output_type": "display_data"
    },
    {
     "name": "stdout",
     "output_type": "stream",
     "text": [
      "p-value is using Anderson-Darling is 0.0010378892214910472\n",
      "Residuals are not normally distributed\n",
      "\n",
      "p-value is using Shapiro Test is 3.9011414628475904e-05\n",
      "Residuals are not normally distributed\n",
      "\n",
      "################### CHECKING MULTICOLLINEARITY OF THE INDEPENDENT VARIABLES ##############################\n"
     ]
    },
    {
     "data": {
      "image/png": "[encoded data removed]",
      "text/plain": [
       "<Figure size 864x576 with 2 Axes>"
      ]
     },
     "metadata": {
      "needs_background": "light"
     },
     "output_type": "display_data"
    },
    {
     "name": "stdout",
     "output_type": "stream",
     "text": [
      "CALCULATING VIF............................\n",
      "2 Features showing higher VIF i.e. VIF > 10 and < 50\n",
      "1 Features showing higher VIF i.e. VIF > 50\n",
      "\n",
      "     feature        VIF\n",
      "0      Sales  55.303920\n",
      "1         TV  23.198876\n",
      "2      Radio  12.570312\n",
      "3  Newspaper   3.153498\n",
      "\n",
      "################### CHECKING AUTOCOORELATION ##############################\n",
      "durbin_watson value is <function durbin_watson at 0x000001D8D758BA60>\n",
      "Little to no autocorrelation \n",
      "\n",
      "Assumption satisfied\n"
     ]
    }
   ],
   "source": [
    "checkLA(df,independent,dependent,residual,y_train,cols_to_ignore=[],cols=[])"
   ]
  },
  {
   "cell_type": "code",
   "execution_count": null,
   "id": "ad3a0eb5",
   "metadata": {},
   "outputs": [],
   "source": []
  }
 ],
 "metadata": {
  "kernelspec": {
   "display_name": "Python 3 (ipykernel)",
   "language": "python",
   "name": "python3"
  },
  "language_info": {
   "codemirror_mode": {
    "name": "ipython",
    "version": 3
   },
   "file_extension": ".py",
   "mimetype": "text/x-python",
   "name": "python",
   "nbconvert_exporter": "python",
   "pygments_lexer": "ipython3",
   "version": "3.9.7"
  }
 },
 "nbformat": 4,
 "nbformat_minor": 5
}
